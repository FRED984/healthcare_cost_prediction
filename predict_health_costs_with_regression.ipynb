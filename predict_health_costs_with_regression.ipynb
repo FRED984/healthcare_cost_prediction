{
  "cells": [
    {
      "cell_type": "markdown",
      "metadata": {
        "id": "view-in-github",
        "colab_type": "text"
      },
      "source": [
        "<a href=\"https://colab.research.google.com/github/FRED984/healthcare_cost_prediction/blob/main/predict_health_costs_with_regression.ipynb\" target=\"_parent\"><img src=\"https://colab.research.google.com/assets/colab-badge.svg\" alt=\"Open In Colab\"/></a>"
      ]
    },
    {
      "cell_type": "code",
      "execution_count": null,
      "metadata": {
        "id": "1rRo8oNqZ-Rj"
      },
      "outputs": [],
      "source": [
        "# Import libraries. You may or may not use all of these.\n",
        "!pip install -q git+https://github.com/tensorflow/docs\n",
        "import matplotlib.pyplot as plt\n",
        "import numpy as np\n",
        "import pandas as pd\n",
        "\n",
        "try:\n",
        "  # %tensorflow_version only exists in Colab.\n",
        "  %tensorflow_version 2.x\n",
        "except Exception:\n",
        "  pass\n",
        "import tensorflow as tf\n",
        "\n",
        "from tensorflow import keras\n",
        "from tensorflow.keras import layers\n",
        "\n",
        "import tensorflow_docs as tfdocs\n",
        "import tensorflow_docs.plots\n",
        "import tensorflow_docs.modeling"
      ]
    },
    {
      "cell_type": "code",
      "execution_count": null,
      "metadata": {
        "id": "CiX2FI4gZtTt"
      },
      "outputs": [],
      "source": [
        "# Import data\n",
        "!wget https://cdn.freecodecamp.org/project-data/health-costs/insurance.csv\n",
        "dataset = pd.read_csv('insurance.csv')\n",
        "dataset.tail()"
      ]
    },
    {
      "cell_type": "code",
      "execution_count": null,
      "metadata": {
        "id": "LcopvQh3X-kX"
      },
      "outputs": [],
      "source": [
        "label_dataset = dataset.pop('expenses')\n",
        "label_dataset.head()"
      ]
    },
    {
      "cell_type": "code",
      "source": [
        "from sklearn.model_selection import train_test_split\n",
        "\n",
        "train_dataset, test_dataset, train_labels, test_labels = train_test_split(dataset, label_dataset, test_size=0.2, random_state=42)\n"
      ],
      "metadata": {
        "id": "QJ7FmwIV8bjv"
      },
      "execution_count": null,
      "outputs": []
    },
    {
      "cell_type": "code",
      "source": [
        "from sklearn.preprocessing import LabelEncoder\n",
        "\n",
        "def transform_categorical_to_numerical(dataset):\n",
        "  # Define your categorical columns\n",
        "  CATEGORICAL_COLUMNS = ['sex', 'smoker', 'region']\n",
        "\n",
        "  # Assuming df is your dataframe containing the data\n",
        "  encoded_df = dataset.copy()  # Create a copy of the original dataframe\n",
        "\n",
        "  # Initialize LabelEncoder\n",
        "  label_encoders = {}\n",
        "\n",
        "  # Encode each categorical column with LabelEncoder\n",
        "  for col in CATEGORICAL_COLUMNS:\n",
        "    label_encoders[col] = LabelEncoder()\n",
        "    encoded_df[col] = label_encoders[col].fit_transform(dataset[col])\n",
        "  return encoded_df\n",
        "\n",
        "train_dataset = transform_categorical_to_numerical(train_dataset)\n",
        "test_dataset = transform_categorical_to_numerical(test_dataset)\n",
        "print(train_dataset)"
      ],
      "metadata": {
        "id": "uet5t_d9CFGS"
      },
      "execution_count": null,
      "outputs": []
    },
    {
      "cell_type": "code",
      "source": [
        "from sklearn.preprocessing import StandardScaler\n",
        "# Standardize the features\n",
        "scaler = StandardScaler()\n",
        "train_dataset = scaler.fit_transform(train_dataset)\n",
        "test_dataset = scaler.transform(test_dataset)\n",
        "\n",
        "train_dataset = train_dataset.astype(np.float32)\n",
        "test_dataset = test_dataset.astype(np.float32)\n",
        "\n",
        "train_dataset = tf.convert_to_tensor(train_dataset)\n",
        "train_labels = tf.convert_to_tensor(train_labels)\n",
        "test_dataset = tf.convert_to_tensor(test_dataset)\n",
        "test_labels = tf.convert_to_tensor(test_labels)\n"
      ],
      "metadata": {
        "id": "U10JMZJhg8Dh"
      },
      "execution_count": null,
      "outputs": []
    },
    {
      "cell_type": "code",
      "source": [
        "#def make_input_fn (data_df,label_df, num_epochs=20, shuffle=True, batch_size=32):\n",
        "  #def input_function():\n",
        "    #ds = tf.data.Dataset.from_tensor_slices((dict(data_df),label_df))\n",
        "    #if shuffle:\n",
        "      #ds = ds.shuffle(1000)\n",
        "    #ds =ds.batch(batch_size).repeat(num_epochs)\n",
        "    #return ds\n",
        "  #return input_function"
      ],
      "metadata": {
        "id": "0tXRaDdyEF2b"
      },
      "execution_count": null,
      "outputs": []
    },
    {
      "cell_type": "code",
      "source": [
        "#train_input_fn = make_input_fn(train_dataset,train_label)\n",
        "#model = tf.estimator.LinearClassifier(feature_columns=feature_columns)\n",
        "#model.train(train_input_fn)"
      ],
      "metadata": {
        "collapsed": true,
        "id": "eO2NyObUEK12"
      },
      "execution_count": null,
      "outputs": []
    },
    {
      "cell_type": "code",
      "source": [
        "\n",
        "# Build the neural network model\n",
        "model = keras.Sequential([\n",
        "    keras.layers.Dense(64, activation='relu', input_shape=[train_dataset.shape[1]]),\n",
        "    keras.layers.Dense(64, activation='relu'),\n",
        "    keras.layers.Dense(64, activation='relu'),\n",
        "    keras.layers.Dense(1, activation='linear')  # Linear activation for regression\n",
        "])\n",
        "\n",
        "# Compile the model with appropriate loss function\n",
        "model.compile(optimizer='adam', loss='mean_squared_error', metrics=['mae', 'mse'])\n",
        "\n",
        "# Train the model with validation data\n",
        "model.fit(train_dataset, train_labels, epochs=50, batch_size=10, validation_data=(test_dataset, test_labels))\n",
        "\n"
      ],
      "metadata": {
        "id": "3PtOj2Cn8v75"
      },
      "execution_count": null,
      "outputs": []
    },
    {
      "cell_type": "code",
      "source": [
        "loss= model.evaluate(test_dataset, test_labels)\n",
        "print(loss)"
      ],
      "metadata": {
        "id": "rtuz7Q3R0nUJ"
      },
      "execution_count": null,
      "outputs": []
    },
    {
      "cell_type": "code",
      "execution_count": null,
      "metadata": {
        "id": "Xe7RXH3N3CWU"
      },
      "outputs": [],
      "source": [
        "# RUN THIS CELL TO TEST YOUR MODEL. DO NOT MODIFY CONTENTS.\n",
        "# Test model by checking how well the model generalizes using the test set.\n",
        "loss, mae, mse = model.evaluate(test_dataset, test_labels, verbose=2)\n",
        "\n",
        "print(\"Testing set Mean Abs Error: {:5.2f} expenses\".format(mae))\n",
        "\n",
        "if mae < 3500:\n",
        "  print(\"You passed the challenge. Great job!\")\n",
        "else:\n",
        "  print(\"The Mean Abs Error must be less than 3500. Keep trying.\")\n",
        "\n",
        "# Plot predictions.\n",
        "test_predictions = model.predict(test_dataset).flatten()\n",
        "\n",
        "a = plt.axes(aspect='equal')\n",
        "plt.scatter(test_labels, test_predictions)\n",
        "plt.xlabel('True values (expenses)')\n",
        "plt.ylabel('Predictions (expenses)')\n",
        "lims = [0, 50000]\n",
        "plt.xlim(lims)\n",
        "plt.ylim(lims)\n",
        "_ = plt.plot(lims,lims)\n"
      ]
    }
  ],
  "metadata": {
    "colab": {
      "private_outputs": true,
      "provenance": [],
      "toc_visible": true,
      "include_colab_link": true
    },
    "kernelspec": {
      "display_name": "Python 3",
      "name": "python3"
    }
  },
  "nbformat": 4,
  "nbformat_minor": 0
}